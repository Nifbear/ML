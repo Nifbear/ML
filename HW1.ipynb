{
 "cells": [
  {
   "cell_type": "markdown",
   "metadata": {},
   "source": [
    "# HW1"
   ]
  },
  {
   "cell_type": "markdown",
   "metadata": {},
   "source": [
    "### Problem 5"
   ]
  },
  {
   "cell_type": "code",
   "execution_count": 1,
   "metadata": {},
   "outputs": [],
   "source": [
    "import numpy as np\n",
    "import csv\n",
    "from scipy.stats import multivariate_normal\n",
    "import matplotlib.pyplot as plt"
   ]
  },
  {
   "cell_type": "markdown",
   "metadata": {},
   "source": [
    "##### Read Data"
   ]
  },
  {
   "cell_type": "code",
   "execution_count": 2,
   "metadata": {},
   "outputs": [
    {
     "name": "stdout",
     "output_type": "stream",
     "text": [
      "Shape of train samples: (4167, 10)\n"
     ]
    }
   ],
   "source": [
    "data = []\n",
    "with open('./hw1data/propublicaTrain.csv', 'r') as csvfile:\n",
    "    reader = csv.reader(csvfile)\n",
    "    for row in reader:\n",
    "        if row:\n",
    "            data.append(row)\n",
    "data.pop(0)\n",
    "data = np.asarray(data)\n",
    "data = data.astype(np.int)\n",
    "print('Shape of train samples:', data.shape)"
   ]
  },
  {
   "cell_type": "code",
   "execution_count": 3,
   "metadata": {},
   "outputs": [
    {
     "name": "stdout",
     "output_type": "stream",
     "text": [
      "Shape of test samples: (2000, 10)\n"
     ]
    }
   ],
   "source": [
    "test = []\n",
    "with open('./hw1data/propublicaTest.csv', 'r') as csvfile:\n",
    "    reader = csv.reader(csvfile)\n",
    "    for row in reader:\n",
    "        if row:\n",
    "            test.append(row)\n",
    "test.pop(0)\n",
    "test = np.asarray(test)\n",
    "test = test.astype(np.int)\n",
    "print('Shape of test samples:', test.shape)"
   ]
  },
  {
   "cell_type": "code",
   "execution_count": 4,
   "metadata": {},
   "outputs": [
    {
     "name": "stdout",
     "output_type": "stream",
     "text": [
      "No. of non-recidivism: 2267\n",
      "No. of recidivism: 1900\n"
     ]
    }
   ],
   "source": [
    "rec = data[:, 0]\n",
    "data_0 = data[rec == 0][:,1:9]\n",
    "data_1 = data[rec == 1][:,1:9]\n",
    "print('No. of non-recidivism:', len(data_0))\n",
    "print('No. of recidivism:', len(data_1))"
   ]
  },
  {
   "cell_type": "markdown",
   "metadata": {},
   "source": [
    "##### MLE Based Classifier\n",
    "Calculate the mean vector $\\mu$ and covariance matrix $\\Sigma$ to fit the Multivariate Gaussian distribution.<br>\n",
    "Removed the last feature (totally correlated.)"
   ]
  },
  {
   "cell_type": "markdown",
   "metadata": {},
   "source": [
    "Use the model to classify."
   ]
  },
  {
   "cell_type": "code",
   "execution_count": 5,
   "metadata": {},
   "outputs": [],
   "source": [
    "mean_0 = np.mean(data_0[:,:-1], axis=0)\n",
    "mean_1 = np.mean(data_1[:,:-1], axis=0)\n",
    "cov_0 = np.cov(data_0[:,:-1].T)\n",
    "cov_1 = np.cov(data_1[:,:-1].T)\n",
    "\n",
    "def MLE_classifier(x, indicator=True):\n",
    "    f0 = multivariate_normal.pdf(x[:-1], mean=mean_0, cov=cov_0)\n",
    "    f1 = multivariate_normal.pdf(x[:-1], mean=mean_1, cov=cov_1)\n",
    "    if indicator:\n",
    "        if f0 * len(data_0) > f1 * len(data_1):\n",
    "            return 0\n",
    "        else:\n",
    "            return 1\n",
    "        \n",
    "    # ROC test\n",
    "    else: \n",
    "        if math.isnan(f0*len(data_0)/(f0 * len(data_0) + f1 * len(data_1))) or math.isnan(f1*len(data_1)/(f0 * len(data_0) + f1 * len(data_1))):\n",
    "            return [1*(f0 * len(data_0) > f1 * len(data_1)),1-1*(f0 * len(data_0) > f1 * len(data_1))]\n",
    "        return [f0*len(data_0)/(f0 * len(data_0) + f1 * len(data_1)),f1*len(data_1)/(f0 * len(data_0) + f1 * len(data_1))]"
   ]
  },
  {
   "cell_type": "markdown",
   "metadata": {},
   "source": [
    "##### kNN Classifier"
   ]
  },
  {
   "cell_type": "code",
   "execution_count": 6,
   "metadata": {},
   "outputs": [],
   "source": [
    "def kNN_classifier(x, indicator=True):\n",
    "    k = 5\n",
    "    # calculate the distance \n",
    "    distance = []\n",
    "    weight = [1, 0.01, 1, 1, 1, 0.1, 1, 1]\n",
    "    bias =   [0, 0, 0, 0, 0, 0, 0, 0]\n",
    "    for d in data:\n",
    "        stack = np.stack((d[1:9], x))\n",
    "        stack = stack * weight + bias\n",
    "        # ------ L2 ------\n",
    "        # dis = np.linalg.norm(stack, axis=0)\n",
    "        # ------ L1 ------\n",
    "        dis = np.sum(np.abs(stack[1] - stack[0]))\n",
    "        # ----------------\n",
    "        distance.append(np.sum(dis))\n",
    "    \n",
    "    sort = np.argsort(distance)\n",
    "    points = data[sort[0:k]]\n",
    "    count = np.sum(points[:,0])\n",
    "    if indicator:\n",
    "        if count < k / 2:\n",
    "            return 0\n",
    "        else:\n",
    "            return 1\n",
    "    else:#Roc test\n",
    "        return [1-count/k,count/k]        "
   ]
  },
  {
   "cell_type": "markdown",
   "metadata": {},
   "source": [
    "##### Naive-bayes Classifier\n",
    "Use addictive smooth to age. Segmented the age of 5 years each."
   ]
  },
  {
   "cell_type": "code",
   "execution_count": 7,
   "metadata": {},
   "outputs": [],
   "source": [
    "# age-segmentation\n",
    "smooth = 2\n",
    "data_nb0 = data_0.copy()\n",
    "data_nb1 = data_1.copy()\n",
    "for i in range(len(data_nb0)):\n",
    "    data_nb0[i, 1] //= smooth\n",
    "for i in range(len(data_nb1)):\n",
    "    data_nb1[i, 1] //= smooth\n",
    "        \n",
    "def naive_bayes_classifier(y, indicator=True):\n",
    "    x = y.copy()\n",
    "    x[1] //= smooth\n",
    "    prior_0 = len(data_nb0) / len(data)\n",
    "    prior_1 = len(data_nb1) / len(data)\n",
    "    \n",
    "    likelihood_0 = np.sum((data_nb0 == x) * 1, axis=0) / len(data_nb0)\n",
    "    likelihood_1 = np.sum((data_nb1 == x) * 1, axis=0) / len(data_nb1)\n",
    "\n",
    "    posterior_0 = np.prod(likelihood_0) * prior_0  \n",
    "    posterior_1 = np.prod(likelihood_1) * prior_1 \n",
    "    if indicator:\n",
    "        if posterior_0 > posterior_1:\n",
    "            return 0\n",
    "        else:\n",
    "            return 1\n",
    "    # ROC test\n",
    "    else:\n",
    "        if math.isnan(posterior_0/(posterior_0+posterior_1)) or math.isnan(posterior_1/(posterior_0+posterior_1)):\n",
    "            return [1*(posterior_0 > posterior_1),1-1*(posterior_0 > posterior_1)]\n",
    "        return [posterior_0/(posterior_0+posterior_1),1-posterior_0/(posterior_0+posterior_1)]"
   ]
  },
  {
   "cell_type": "markdown",
   "metadata": {},
   "source": [
    "##### Train Error"
   ]
  },
  {
   "cell_type": "code",
   "execution_count": 8,
   "metadata": {},
   "outputs": [],
   "source": [
    "def classifier_train_error(function):\n",
    "    true0 = true1 = false0 = false1 = 0\n",
    "    for t in data:\n",
    "        p = function(t[1:9])\n",
    "        if t[0] == 0:\n",
    "            if p == 0: true0  += 1\n",
    "            if p == 1: false0 += 1\n",
    "        if t[0] == 1:\n",
    "            if p == 1: true1  += 1\n",
    "            if p == 0: false1 += 1\n",
    "                \n",
    "    return (true0, true1, false0, false1, (true0+true1)/len(data))"
   ]
  },
  {
   "cell_type": "code",
   "execution_count": 165,
   "metadata": {},
   "outputs": [
    {
     "name": "stdout",
     "output_type": "stream",
     "text": [
      "Train Error MLE: (2076, 496, 191, 1404, 0.617230621550276)\n"
     ]
    }
   ],
   "source": [
    "print('Train Error MLE:', classifier_train_error(MLE_classifier))"
   ]
  },
  {
   "cell_type": "code",
   "execution_count": 61,
   "metadata": {},
   "outputs": [
    {
     "name": "stdout",
     "output_type": "stream",
     "text": [
      "Train Error kNN: (1745, 1305, 522, 595, 0.7319414446844252)\n"
     ]
    }
   ],
   "source": [
    "print('Train Error kNN:', classifier_train_error(kNN_classifier))"
   ]
  },
  {
   "cell_type": "code",
   "execution_count": 10,
   "metadata": {},
   "outputs": [
    {
     "name": "stdout",
     "output_type": "stream",
     "text": [
      "Train Error Bayes: (1758, 1054, 509, 846, 0.6748260139188865)\n"
     ]
    }
   ],
   "source": [
    "print('Train Error Bayes:', classifier_train_error(naive_bayes_classifier))"
   ]
  },
  {
   "cell_type": "code",
   "execution_count": 176,
   "metadata": {},
   "outputs": [
    {
     "data": {
      "image/png": "[encoded data removed]",
      "text/plain": [
       "<Figure size 432x288 with 1 Axes>"
      ]
     },
     "metadata": {
      "needs_background": "light"
     },
     "output_type": "display_data"
    }
   ],
   "source": [
    "plt.bar([1,2,3], [0.617, 0.732, 0.675], width=0.4, tick_label=['MLE', 'kNN', 'Naive Bayes'])\n",
    "plt.xlabel('Classifiers')\n",
    "plt.ylabel('Accuracy')\n",
    "plt.title('Train')\n",
    "plt.show()"
   ]
  },
  {
   "cell_type": "markdown",
   "metadata": {},
   "source": [
    "##### Test Classifiers"
   ]
  },
  {
   "cell_type": "code",
   "execution_count": 9,
   "metadata": {},
   "outputs": [],
   "source": [
    "def classifier_test(function):\n",
    "    true0 = true1 = false0 = false1 = 0\n",
    "    pred = []\n",
    "    for t in test:\n",
    "        p = function(t[1:9])\n",
    "        pred.append(p)\n",
    "        if t[0] == 0:\n",
    "            if p == 0: true0  += 1 \n",
    "            if p == 1: false0 += 1\n",
    "        elif t[0] == 1:\n",
    "            if p == 1: true1  += 1\n",
    "            if p == 0: false1 += 1\n",
    "                \n",
    "    return (pred, true0, true1, false0, false1, (true0+true1)/len(test))"
   ]
  },
  {
   "cell_type": "code",
   "execution_count": 166,
   "metadata": {},
   "outputs": [
    {
     "name": "stdout",
     "output_type": "stream",
     "text": [
      "Test MLE: (1020, 240, 71, 669, 0.63)\n"
     ]
    }
   ],
   "source": [
    "pred_MLE, true0, true1, false0, false1, acc = classifier_test(MLE_classifier)\n",
    "print('Test MLE:', (true0, true1, false0, false1, acc))"
   ]
  },
  {
   "cell_type": "markdown",
   "metadata": {},
   "source": [
    "kNN may take 3 minutes."
   ]
  },
  {
   "cell_type": "code",
   "execution_count": 43,
   "metadata": {},
   "outputs": [
    {
     "name": "stdout",
     "output_type": "stream",
     "text": [
      "Test kNN: (746, 533, 345, 376, 0.6395)\n"
     ]
    }
   ],
   "source": [
    "pred_kNN, true0, true1, false0, false1, acc = classifier_test(kNN_classifier)\n",
    "print('Test kNN:', (true0, true1, false0, false1, acc))"
   ]
  },
  {
   "cell_type": "code",
   "execution_count": 45,
   "metadata": {},
   "outputs": [
    {
     "name": "stdout",
     "output_type": "stream",
     "text": [
      "Test Bayes: (865, 508, 226, 401, 0.6865)\n"
     ]
    }
   ],
   "source": [
    "pred_naive, true0, true1, false0, false1, acc = classifier_test(naive_bayes_classifier)\n",
    "print('Test Bayes:', (true0, true1, false0, false1, acc))"
   ]
  }
 ],
 "metadata": {
  "kernelspec": {
   "display_name": "Python 3",
   "language": "python",
   "name": "python3"
  },
  "language_info": {
   "codemirror_mode": {
    "name": "ipython",
    "version": 3
   },
   "file_extension": ".py",
   "mimetype": "text/x-python",
   "name": "python",
   "nbconvert_exporter": "python",
   "pygments_lexer": "ipython3",
   "version": "3.7.1"
  }
 },
 "nbformat": 4,
 "nbformat_minor": 2
}
